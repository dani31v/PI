{
 "cells": [
  {
   "cell_type": "markdown",
   "metadata": {},
   "source": [
    "N4(P)(vecindad)= una cruz\n",
    "// NDiagonal(P) = los cuatro numeros en diagonal a un num\n",
    "// N8(P)= donde el num elegido es el centro de una matriz 3x3\n",
    "// 4 adyacencia= que los 4 vecinos estan conectados\n",
    "// 8 adyacencia = hacer conexiones \n",
    "// v={1:10}\n",
    "\n",
    "-----------------------------------------------------------------\n",
    "m (adyacencia)\n",
    "1. evaluar a los 4 adyacentes de acuerdo a v\n",
    "2. decimos que no tiene conexion diagonal cuando los vecinos de p y los vecinos de q (un numero de la diagonal de la matriz donde q esta en medio) se intersectan ambos en uhn núm"
   ]
  },
  {
   "cell_type": "code",
   "execution_count": 1,
   "metadata": {},
   "outputs": [],
   "source": [
    "import numpy as np"
   ]
  },
  {
   "cell_type": "code",
   "execution_count": 2,
   "metadata": {},
   "outputs": [],
   "source": [
    "arreglo= np.random.randint(15,size=(10,10))"
   ]
  },
  {
   "cell_type": "code",
   "execution_count": 3,
   "metadata": {},
   "outputs": [
    {
     "data": {
      "text/plain": [
       "array([[10,  5, 13,  1,  5,  8, 12,  4,  7,  9],\n",
       "       [10,  7,  7,  2, 10,  5,  0,  6, 12,  7],\n",
       "       [ 6, 11, 11,  7,  2, 13,  0,  2,  9, 13],\n",
       "       [ 6, 14,  2,  5,  8,  5, 12,  0,  9,  6],\n",
       "       [ 9,  8, 12,  5, 10,  5,  9, 10,  1, 14],\n",
       "       [ 3,  8,  7,  9,  2, 14, 11,  6, 13,  0],\n",
       "       [ 7, 13,  7,  4, 12,  6, 12, 10,  1,  6],\n",
       "       [ 8, 13,  2, 10,  7, 13,  5,  5,  9, 14],\n",
       "       [13,  4, 11,  0,  7,  0, 13,  9, 10, 10],\n",
       "       [ 2,  1, 13,  7,  2, 10, 11, 13,  7,  6]])"
      ]
     },
     "execution_count": 3,
     "metadata": {},
     "output_type": "execute_result"
    }
   ],
   "source": [
    "arreglo"
   ]
  }
 ],
 "metadata": {
  "kernelspec": {
   "display_name": "pdi",
   "language": "python",
   "name": "python3"
  },
  "language_info": {
   "codemirror_mode": {
    "name": "ipython",
    "version": 3
   },
   "file_extension": ".py",
   "mimetype": "text/x-python",
   "name": "python",
   "nbconvert_exporter": "python",
   "pygments_lexer": "ipython3",
   "version": "3.11.1"
  },
  "orig_nbformat": 4
 },
 "nbformat": 4,
 "nbformat_minor": 2
}
